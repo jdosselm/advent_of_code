{
 "cells": [
  {
   "cell_type": "code",
   "execution_count": 231,
   "id": "6a3e663e-2794-4242-9688-a419f66509af",
   "metadata": {},
   "outputs": [
    {
     "name": "stdout",
     "output_type": "stream",
     "text": [
      "6030\n"
     ]
    }
   ],
   "source": [
    "# adjustments depending on direction\n",
    "# if head is at the following position (relative to tail being at (0,0))\n",
    "adjustments_by_position = {\n",
    "    (0,0): dict(L=((-1,0), (0,0)), R=((1,0), (0,0)), U=((0,-1), (0,0)), D=((0,1), (0,0))),\n",
    "    (1,0): dict(L=((0,0), (0,0)), R=((2,0), (1,0)), U=((1,-1), (0,0)), D=((1,1), (0,0))),\n",
    "    (-1,0): dict(L=((-2,0), (-1,0)), R=((0,0), (0,0)), U=((-1,-1), (0,0)), D=((-1,1), (0,0))),\n",
    "    (0,1): dict(L=((-1,1), (0,0)), R=((1,1), (0,0)), U=((0,0), (0,0)), D=((0,2), (0,1))),\n",
    "    (0,-1): dict(L=((-1,-1), (0,0)), R=((1,-1), (0,0)), U=((0,-2), (0,-1)), D=((0,0), (0,0))),\n",
    "    (1,1): dict(L=((0,1), (0,0)), R=((2,1), (1,1)), U=((1,0), (0,0)), D=((1,2), (1,1))),\n",
    "    (-1,1): dict(L=((-2,1), (-1,1)), R=((0,1), (0,0)), U=((-1,0), (0,0)), D=((-1,2), (-1,1))),\n",
    "    (1,-1): dict(L=((0,-1), (0,0)), R=((2,-1), (1,-1)), U=((1,-2), (1,-1)), D=((1,0), (0,0))),\n",
    "    (-1,-1): dict(L=((-2,-1), (-1,-1)), R=((0,-1), (0,0)), U=((-1,-2), (-1,-1)), D=((-1,0), (0,0))),\n",
    "}\n",
    "\n",
    "# start positions\n",
    "head_position = [0, 0]\n",
    "tail_positions = [(0, 0)] # will collect all tail positions\n",
    "\n",
    "with open('data/day9.txt', 'r') as f:\n",
    "    line = f.readline()\n",
    "    while line:\n",
    "        direction, steps = line.strip().split(' ')\n",
    "        for s in range(int(steps)):\n",
    "            adjustments = adjustments_by_position[(head_position[0] - tail_positions[-1][0], head_position[1] - tail_positions[-1][1])][direction]\n",
    "            head_position = [adjustments[0][0] + tail_positions[-1][0], adjustments[0][1] + tail_positions[-1][1]]\n",
    "            tail_positions.append(tuple([tail_positions[-1][0] + adjustments[1][0], tail_positions[-1][1] + adjustments[1][1]]))\n",
    "        line = f.readline()\n",
    "\n",
    "print(len(set(tail_positions)))"
   ]
  },
  {
   "cell_type": "markdown",
   "id": "e5b3df2f-f5ba-4cae-a68a-3e9042483f57",
   "metadata": {},
   "source": [
    "# Part 2"
   ]
  },
  {
   "cell_type": "code",
   "execution_count": 2,
   "id": "c0af4fcc-d91b-4bb9-a77a-1af2f6606b30",
   "metadata": {},
   "outputs": [],
   "source": [
    "import matplotlib.pyplot as plt\n",
    "import numpy as np"
   ]
  },
  {
   "cell_type": "code",
   "execution_count": 240,
   "id": "caddda29-266a-4768-a4c8-6c8d97e36df6",
   "metadata": {},
   "outputs": [
    {
     "name": "stdout",
     "output_type": "stream",
     "text": [
      "Result: 2545\n",
      "Final Position\n"
     ]
    },
    {
     "data": {
      "image/png": "[encoded data removed]",
      "text/plain": [
       "<Figure size 432x288 with 1 Axes>"
      ]
     },
     "metadata": {
      "needs_background": "light"
     },
     "output_type": "display_data"
    },
    {
     "name": "stdout",
     "output_type": "stream",
     "text": [
      "Locations visited by tail\n"
     ]
    },
    {
     "data": {
      "image/png": "[encoded data removed]",
      "text/plain": [
       "<Figure size 432x288 with 1 Axes>"
      ]
     },
     "metadata": {
      "needs_background": "light"
     },
     "output_type": "display_data"
    }
   ],
   "source": [
    "L = (-1, 0)\n",
    "R = (1, 0)\n",
    "U = (0, 1)\n",
    "D = (0, -1)\n",
    "RU = (1, 1)\n",
    "RD = (1, -1)\n",
    "LU = (-1, 1)\n",
    "LD = (-1, -1)\n",
    "\n",
    "moves = dict(\n",
    "    L=L, R=R, U=U, D=D, RU=RU, RD=RD, LU=LU, LD=LD\n",
    ")\n",
    "\n",
    "directions = {v: k for k, v in moves.items()}\n",
    "\n",
    "adjustments = {\n",
    "    R: dict(R=R, RU=RU, RD=RD),\n",
    "    L: dict(L=L, LU=LU, LD=LD),\n",
    "\n",
    "    U: dict(U=U, LU=LU, RU=RU),\n",
    "    D: dict(D=D, LD=LD, RD=RD),\n",
    "\n",
    "    RU: dict(R=RU, U=RU, RU=RU, RD=R, LU=U),\n",
    "    LU: dict(L=LU, U=LU, LU=LU, LD=L, RU=U),\n",
    "\n",
    "    LD: dict(D=LD, L=LD, LD=LD, RD=D, LU=L),        \n",
    "    RD: dict(D=RD, R=RD, RD=RD, LD=D, RU=R),\n",
    "}\n",
    "\n",
    "rope = [[0, 0]] * 10\n",
    "tail_positions = [(0, 0)]\n",
    "\n",
    "with open('data/day9.txt', 'r') as f:\n",
    "    line = f.readline() \n",
    "    while line:\n",
    "        direction, steps = line.strip().split(' ')\n",
    "        for _ in range(int(steps)):\n",
    "            new_direction = direction\n",
    "            move_x, move_y = moves[direction][0], moves[direction][1]\n",
    "            k = 0\n",
    "            while new_direction and k < len(rope) - 1:\n",
    "                situation = (rope[k][0] - rope[k+1][0], rope[k][1] - rope[k+1][1]) \n",
    "                rope[k] = (rope[k][0] + move_x, rope[k][1] + move_y)\n",
    "                move_x, move_y = adjustments.get(situation, {}).get(new_direction, (0, 0))\n",
    "                new_direction = directions.get((move_x, move_y))\n",
    "                k += 1\n",
    "            rope[k] = (rope[k][0] + move_x, rope[k][1] + move_y)                \n",
    "            tail_positions.append(tuple(rope[-1]))   \n",
    "        line = f.readline()         \n",
    "\n",
    "print(\"Result:\", len(set(tail_positions)))\n",
    "\n",
    "print(\"Final Position\")\n",
    "fig = plt.figure()\n",
    "ax = fig.add_subplot(111)\n",
    "ax.set_xticks(np.arange(-30, 30, 1))\n",
    "ax.set_yticks(np.arange(-30, 30, 1))\n",
    "\n",
    "plt.scatter([x[0] for x in rope],[x[1] for x in rope] )\n",
    "plt.grid()\n",
    "plt.show()\n",
    "\n",
    "print(\"Locations visited by tail\")\n",
    "st = set(tail_positions)\n",
    "plt.scatter([x[0] for x in st],[x[1] for x in st] )\n",
    "plt.grid()\n",
    "plt.show()"
   ]
  }
 ],
 "metadata": {
  "kernelspec": {
   "display_name": "Python 3 (ipykernel)",
   "language": "python",
   "name": "python3"
  },
  "language_info": {
   "codemirror_mode": {
    "name": "ipython",
    "version": 3
   },
   "file_extension": ".py",
   "mimetype": "text/x-python",
   "name": "python",
   "nbconvert_exporter": "python",
   "pygments_lexer": "ipython3",
   "version": "3.9.13"
  }
 },
 "nbformat": 4,
 "nbformat_minor": 5
}
