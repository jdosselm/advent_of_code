{
 "cells": [
  {
   "cell_type": "code",
   "execution_count": 5,
   "id": "e65d4a44-45d3-4403-b302-26285e0f88e2",
   "metadata": {},
   "outputs": [
    {
     "name": "stdout",
     "output_type": "stream",
     "text": [
      "jqvg 1794\n"
     ]
    }
   ],
   "source": [
    "with open('data/day6.txt', 'r') as file:\n",
    "    line = file.readline()\n",
    "\n",
    "def find_som(num_chars):    \n",
    "    for i in range(0, len(line)):\n",
    "        x = line[:i][-num_chars:]\n",
    "        if len(set(x)) == num_chars:\n",
    "            print(x, i)\n",
    "            break;\n",
    "find_som(4)"
   ]
  },
  {
   "cell_type": "markdown",
   "id": "8294b61d-c8af-4d93-aa51-9cc5202dffcc",
   "metadata": {},
   "source": [
    "# Part 2"
   ]
  },
  {
   "cell_type": "code",
   "execution_count": 6,
   "id": "17e057c6-9201-488d-80cc-2d2c5c31ab77",
   "metadata": {},
   "outputs": [
    {
     "name": "stdout",
     "output_type": "stream",
     "text": [
      "prhvlgftcbnwjq 2851\n"
     ]
    }
   ],
   "source": [
    "find_som(14)"
   ]
  }
 ],
 "metadata": {
  "kernelspec": {
   "display_name": "Python 3 (ipykernel)",
   "language": "python",
   "name": "python3"
  },
  "language_info": {
   "codemirror_mode": {
    "name": "ipython",
    "version": 3
   },
   "file_extension": ".py",
   "mimetype": "text/x-python",
   "name": "python",
   "nbconvert_exporter": "python",
   "pygments_lexer": "ipython3",
   "version": "3.9.13"
  }
 },
 "nbformat": 4,
 "nbformat_minor": 5
}
