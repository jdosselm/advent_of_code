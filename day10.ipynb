{
 "cells": [
  {
   "cell_type": "code",
   "execution_count": 1,
   "id": "cc3f093f-1d85-480a-9145-4cfc28ec9c61",
   "metadata": {},
   "outputs": [
    {
     "name": "stdout",
     "output_type": "stream",
     "text": [
      "13920\n"
     ]
    }
   ],
   "source": [
    "with open('data/day10.txt', 'r') as f:\n",
    "    line = f.readline()\n",
    "    x = 1\n",
    "    cycle = 0\n",
    "    total = 0\n",
    "    while line:\n",
    "        if line.strip() == 'noop':\n",
    "            cycle += 1\n",
    "            value = x * (cycle)\n",
    "            if cycle == 20 or (cycle - 20) % 40 == 0:\n",
    "                total += value\n",
    "        else:\n",
    "            for c in [1, 2]:\n",
    "                value = x * (cycle + c)\n",
    "                if cycle + c == 20 or (cycle + c - 20) % 40 == 0:\n",
    "                    total += value\n",
    "            cycle += 2\n",
    "            x += int(line.strip().split(' ')[1])\n",
    "        line = f.readline()\n",
    "\n",
    "print(total)\n"
   ]
  },
  {
   "cell_type": "markdown",
   "id": "6b5893ef-6b0c-4ec4-8990-f19331b42c45",
   "metadata": {},
   "source": [
    "# Part 2"
   ]
  },
  {
   "cell_type": "code",
   "execution_count": 2,
   "id": "a457e1c7-e175-4f9c-8c08-9b5371d85797",
   "metadata": {},
   "outputs": [
    {
     "name": "stdout",
     "output_type": "stream",
     "text": [
      "####..##..#....#..#.###..#....####...##.\n",
      "#....#..#.#....#..#.#..#.#....#.......#.\n",
      "###..#....#....####.###..#....###.....#.\n",
      "#....#.##.#....#..#.#..#.#....#.......#.\n",
      "#....#..#.#....#..#.#..#.#....#....#..#.\n",
      "####..###.####.#..#.###..####.#.....##..\n"
     ]
    }
   ],
   "source": [
    "with open('data/day10.txt', 'r') as f:\n",
    "    line = f.readline()\n",
    "    screen = list()\n",
    "    x = 1\n",
    "    cycle = 0\n",
    "    while line:\n",
    "        if line.strip() == 'noop':\n",
    "            screen.append('#' if cycle % 40 in [x-1, x, x+1] else '.')\n",
    "            cycle += 1\n",
    "        else:\n",
    "            for c in [1, 2]:                    \n",
    "                screen.append('#' if cycle % 40 in [x-1, x, x+1] else '.')\n",
    "                cycle += 1\n",
    "            x += int(line.strip().split(' ')[1])\n",
    "        line = f.readline()\n",
    "\n",
    "for c in [screen[i:i+40] for i in range(0,len(screen),40)]:\n",
    "    print(''.join(c))\n"
   ]
  }
 ],
 "metadata": {
  "kernelspec": {
   "display_name": "Python 3 (ipykernel)",
   "language": "python",
   "name": "python3"
  },
  "language_info": {
   "codemirror_mode": {
    "name": "ipython",
    "version": 3
   },
   "file_extension": ".py",
   "mimetype": "text/x-python",
   "name": "python",
   "nbconvert_exporter": "python",
   "pygments_lexer": "ipython3",
   "version": "3.9.13"
  }
 },
 "nbformat": 4,
 "nbformat_minor": 5
}
