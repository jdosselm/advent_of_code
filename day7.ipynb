{
 "cells": [
  {
   "cell_type": "code",
   "execution_count": 1,
   "id": "495e6751-2ab2-48e8-b491-64468d460529",
   "metadata": {},
   "outputs": [],
   "source": [
    "from functools import reduce\n",
    "\n",
    "filesystem = dict()\n",
    "current_dir = list()\n",
    "\n",
    "with open('data/day7.txt', 'r') as file:\n",
    "    line = file.readline()\n",
    "    while line.strip():\n",
    "        if line.strip() == '$ ls':\n",
    "            content = reduce(lambda x,y: x[y] if y else x, current_dir, filesystem)\n",
    "            line = file.readline()\n",
    "            while not line.startswith('$') and line.strip():\n",
    "                dir_or_size, name = line.strip().split(' ')\n",
    "                content[name] = dict() if dir_or_size == 'dir' else int(dir_or_size)        \n",
    "                line = file.readline()\n",
    "        if line.startswith('$ cd'):\n",
    "            dir = line.strip().split(' ')[2]\n",
    "            if dir == '/':\n",
    "                current_dir = list()\n",
    "            elif dir == '..':\n",
    "                current_dir.pop()\n",
    "            else:\n",
    "                current_dir.append(dir)\n",
    "        line = file.readline()"
   ]
  },
  {
   "cell_type": "code",
   "execution_count": 2,
   "id": "e0d09b06-3115-45f1-a5d3-e016bd094f63",
   "metadata": {},
   "outputs": [],
   "source": [
    "def get_dir_size(directory):\n",
    "    file_size = sum([v for k, v in directory.items() if not isinstance(v, dict)])\n",
    "    dir_sizes = sum([get_dir_size(directory[k]) for k, v in directory.items() if isinstance(v, dict)])\n",
    "    return file_size + dir_sizes\n",
    "\n",
    "def sum_of_big_dirs(directory):\n",
    "    dir_size = get_dir_size(directory)\n",
    "    result = 0 if dir_size > 100000 else dir_size    \n",
    "    for k, v in directory.items():\n",
    "        if isinstance(v, dict):\n",
    "            result += sum_of_big_dirs(directory[k])\n",
    "    return result"
   ]
  },
  {
   "cell_type": "code",
   "execution_count": 3,
   "id": "83a8e73f-ea31-4c25-b9b8-acfde531ba65",
   "metadata": {},
   "outputs": [
    {
     "data": {
      "text/plain": [
       "1581595"
      ]
     },
     "execution_count": 3,
     "metadata": {},
     "output_type": "execute_result"
    }
   ],
   "source": [
    "sum_of_big_dirs(filesystem)"
   ]
  },
  {
   "cell_type": "markdown",
   "id": "69a16d74-0b03-407a-8b4e-3072ba91f8a0",
   "metadata": {},
   "source": [
    "# Part2"
   ]
  },
  {
   "cell_type": "code",
   "execution_count": 4,
   "id": "4d4fda87-aabf-441d-8c70-adcfee76995e",
   "metadata": {},
   "outputs": [
    {
     "data": {
      "text/plain": [
       "1518953"
      ]
     },
     "execution_count": 4,
     "metadata": {},
     "output_type": "execute_result"
    }
   ],
   "source": [
    "total_space, needed_space = 70000000, 30000000\n",
    "free_space = total_space - get_dir_size(filesystem)\n",
    "need_to_delete = needed_space - free_space\n",
    "need_to_delete"
   ]
  },
  {
   "cell_type": "code",
   "execution_count": 5,
   "id": "df0fa640-f4bf-47d6-aba3-74fafb1fdeba",
   "metadata": {},
   "outputs": [],
   "source": [
    "def best_dirs_to_delete(directory):\n",
    "    result = list()\n",
    "    dir_size = get_dir_size(directory)\n",
    "    if dir_size >= need_to_delete:\n",
    "        result.append(dir_size)\n",
    "    for k, v in directory.items():\n",
    "        if isinstance(v, dict):\n",
    "            result.extend(best_dirs_to_delete(directory[k]))\n",
    "    return result"
   ]
  },
  {
   "cell_type": "code",
   "execution_count": 6,
   "id": "47f26dd6-e707-4353-af09-55b08bc2bf25",
   "metadata": {},
   "outputs": [
    {
     "data": {
      "text/plain": [
       "1544176"
      ]
     },
     "execution_count": 6,
     "metadata": {},
     "output_type": "execute_result"
    }
   ],
   "source": [
    "sorted(best_dirs_to_delete(filesystem))[0]"
   ]
  }
 ],
 "metadata": {
  "kernelspec": {
   "display_name": "Python 3 (ipykernel)",
   "language": "python",
   "name": "python3"
  },
  "language_info": {
   "codemirror_mode": {
    "name": "ipython",
    "version": 3
   },
   "file_extension": ".py",
   "mimetype": "text/x-python",
   "name": "python",
   "nbconvert_exporter": "python",
   "pygments_lexer": "ipython3",
   "version": "3.9.13"
  }
 },
 "nbformat": 4,
 "nbformat_minor": 5
}
