{
 "cells": [
  {
   "cell_type": "code",
   "execution_count": 1,
   "id": "50d9ea47-1340-4255-abb0-abd5e68f53f3",
   "metadata": {},
   "outputs": [
    {
     "data": {
      "text/plain": [
       "'FWSHSPJWM'"
      ]
     },
     "execution_count": 1,
     "metadata": {},
     "output_type": "execute_result"
    }
   ],
   "source": [
    "with open('data/day5.txt', 'r') as file:\n",
    "    stacks = list()\n",
    "    line = file.readline()\n",
    "    while line.strip():\n",
    "        stacks.insert(0, [line[a:b].strip() for a, b in zip(range(0, 38, 4), range(4, 38, 4))])\n",
    "        line = file.readline()\n",
    "        \n",
    "    stacks = [[b for b in a[1:] if b] for a in list(zip(*stacks))]\n",
    "    \n",
    "    line = file.readline()\n",
    "    while line.strip():\n",
    "        quantity, move_from, move_to = list(map(int, line[:-1].split(' ')[1::2]))\n",
    "        line = file.readline()\n",
    "        for m in range(0, quantity):\n",
    "            stacks[move_to - 1].append(stacks[move_from - 1].pop())\n",
    "    \n",
    "''.join([s[-1][1:-1] for s in stacks])"
   ]
  },
  {
   "cell_type": "markdown",
   "id": "6457834e-b0b7-436b-9800-759b61de0e5c",
   "metadata": {},
   "source": [
    "# Part2"
   ]
  },
  {
   "cell_type": "code",
   "execution_count": 2,
   "id": "d8baf2df-55af-42e6-a9a3-e930045630e7",
   "metadata": {},
   "outputs": [
    {
     "data": {
      "text/plain": [
       "'PWPWHGFZS'"
      ]
     },
     "execution_count": 2,
     "metadata": {},
     "output_type": "execute_result"
    }
   ],
   "source": [
    "with open('data/day5.txt', 'r') as file:\n",
    "    stacks = list()\n",
    "    line = file.readline()\n",
    "    while line.strip():\n",
    "        stacks.insert(0, [line[a:b].strip() for a, b in zip(range(0, 38, 4), range(4, 38, 4))])\n",
    "        line = file.readline()\n",
    "        \n",
    "    stacks = [[b for b in a[1:] if b] for a in list(zip(*stacks))]\n",
    "    \n",
    "    line = file.readline()\n",
    "    while line.strip():\n",
    "        quantity, move_from, move_to = list(map(int, line[:-1].split(' ')[1::2]))\n",
    "        line = file.readline()\n",
    "        for m in range(0, quantity):\n",
    "            stacks[move_to - 1].append(stacks[move_from - 1].pop(-quantity + m))\n",
    "    \n",
    "''.join([s[-1][1:-1] for s in stacks])"
   ]
  }
 ],
 "metadata": {
  "kernelspec": {
   "display_name": "Python 3 (ipykernel)",
   "language": "python",
   "name": "python3"
  },
  "language_info": {
   "codemirror_mode": {
    "name": "ipython",
    "version": 3
   },
   "file_extension": ".py",
   "mimetype": "text/x-python",
   "name": "python",
   "nbconvert_exporter": "python",
   "pygments_lexer": "ipython3",
   "version": "3.9.13"
  }
 },
 "nbformat": 4,
 "nbformat_minor": 5
}
